{
 "cells": [
  {
   "cell_type": "code",
   "execution_count": 1,
   "metadata": {},
   "outputs": [
    {
     "data": {
      "text/plain": [
       "run_model (generic function with 2 methods)"
      ]
     },
     "execution_count": 1,
     "metadata": {},
     "output_type": "execute_result"
    }
   ],
   "source": [
    "using StatsBase\n",
    "using JLD\n",
    "using DataFrames\n",
    "using Statistics\n",
    "\n",
    "import IterTools\n",
    "\n",
    "include(\"./model.jl\")"
   ]
  },
  {
   "cell_type": "code",
   "execution_count": 2,
   "metadata": {},
   "outputs": [
    {
     "data": {
      "text/plain": [
       "number_planet_in_galaxy (generic function with 1 method)"
      ]
     },
     "execution_count": 2,
     "metadata": {},
     "output_type": "execute_result"
    }
   ],
   "source": [
    "function get_block(true_planet)\n",
    "    block =[]\n",
    "    for p in true_planet\n",
    "        if p < 20\n",
    "            append!(block,1)\n",
    "        elseif p < 40\n",
    "            append!(block,2)\n",
    "        elseif p < 60\n",
    "            append!(block,3)\n",
    "        elseif p < 80\n",
    "            append!(block,4)\n",
    "        elseif p < 100\n",
    "            append!(block,5)\n",
    "        end\n",
    "    end\n",
    "    return block\n",
    "end\n",
    "\n",
    "\n",
    "function chunk_galaries(galaxies)\n",
    "    groups=[]\n",
    "    for i in IterTools.groupby(x -> x, galaxies)\n",
    "        push!(groups,i)\n",
    "    end\n",
    "        return groups\n",
    "end\n",
    "\n",
    "function number_planet_in_galaxy(galaxies)\n",
    "    chunks = chunk_galaries(galaxies)\n",
    "    return [i for galaxy in chunks for i in 1:length(galaxy)]\n",
    "end"
   ]
  },
  {
   "cell_type": "markdown",
   "metadata": {},
   "source": [
    "# Simulations"
   ]
  },
  {
   "cell_type": "markdown",
   "metadata": {},
   "source": [
    "## Three Patch Environment "
   ]
  },
  {
   "cell_type": "code",
   "execution_count": 6,
   "metadata": {},
   "outputs": [
    {
     "data": {
      "text/plain": [
       "three_patch_inference (generic function with 1 method)"
      ]
     },
     "execution_count": 6,
     "metadata": {},
     "output_type": "execute_result"
    }
   ],
   "source": [
    "function three_patch_inference(alpha)\n",
    "    if alpha\n",
    "        params = [1,5,2]\n",
    "        filename = \"model_results/show_inference_1.csv\"\n",
    "    else\n",
    "        params = [0,5,2]\n",
    "        filename = \"model_results/show_inference_0.csv\"\n",
    "    end\n",
    "    \n",
    "    data = get_sub_data(76)\n",
    "    num_particles = 1\n",
    "    b,x,y,z=crp_adaptiveDiscount(data,params,num_particles)\n",
    "    opt_prt = optimal_policy(b)\n",
    "    diff = b.prt - opt_prt\n",
    "    \n",
    "    # put in dataframe and save\n",
    "    df = DataFrame(Dict(\"true_planet\"=> b.true_planet,\"galaxy\"=> b.galaxy,\"prt\"=>b.prt,\n",
    "        \"opt_prt\"=>opt_prt, \"diff\" => diff))\n",
    "\n",
    "    gdf = groupby(df, :galaxy)\n",
    "    prt_avg = combine(gdf, :diff => mean)\n",
    "\n",
    "\n",
    "    df = DataFrame(Dict(\"true_planet\"=> b.true_planet,\"galaxy\"=> b.galaxy,\"prt\"=>b.prt,\n",
    "        \"opt_prt\"=>opt_prt, \"diff\" => diff,\"pred_decay\"=>x,\"uncertainty\"=>y,\"true_decay\"=>z))\n",
    "    \n",
    "    CSV.write(filename,df)\n",
    "    return  \n",
    "end"
   ]
  },
  {
   "cell_type": "code",
   "execution_count": null,
   "metadata": {},
   "outputs": [],
   "source": [
    "three_patch_inference(true)\n",
    "three_patch_inference(false)"
   ]
  },
  {
   "cell_type": "markdown",
   "metadata": {},
   "source": [
    "## Simulate models with best fitting parameters"
   ]
  },
  {
   "cell_type": "code",
   "execution_count": 3,
   "metadata": {},
   "outputs": [
    {
     "data": {
      "text/plain": [
       "all_subs (generic function with 1 method)"
      ]
     },
     "execution_count": 3,
     "metadata": {},
     "output_type": "execute_result"
    }
   ],
   "source": [
    "function sub_params(model, sub_num, output, fit_params)\n",
    "    sub_data = get_sub_data(sub_num)\n",
    "    if cmp(model,\"adaptive_discount\") == 0\n",
    "        if fit_params # load in the best fitting parameters \n",
    "            d=load(string(\"fit_params/adaptive_discount_10_10_3/sub\",string(sub_num),\".jld\"))\n",
    "            params = d[\"res\"]\n",
    "        else \n",
    "            params = [5,1,0.6]\n",
    "        end\n",
    "        num_particles = 1\n",
    "        b = crp_adaptiveDiscount(sub_data,params,num_particles);\n",
    "        df_params = DataFrame(Dict(\"sub_num\"=> sub_num,\"alpha\"=> params[1],\"gamma_base\"=> params[2],\"gamma_coef\"=> params[3]))\n",
    "    elseif cmp(model,\"mvt\") == 0\n",
    "        if fit_params\n",
    "            d=load(string(\"fit_params/MVT_learn_1_20_3/sub\",string(sub_num),\".jld\"))\n",
    "            params = d[\"res\"]\n",
    "        else\n",
    "            params = [0.1,10,1]           \n",
    "        end\n",
    "        b = MVT_learn(sub_data,params);\n",
    "        df_params = DataFrame(Dict(\"sub_num\"=> sub_num,\"alpha\"=> params[1],\"beta\"=> params[2],\"c\"=> params[3]))\n",
    "\n",
    "    elseif cmp(model,\"td\") == 0\n",
    "        if fit_params\n",
    "            d=load(string(\"fit_params/td_1_20_1_3/sub\",string(sub_num),\".jld\"))\n",
    "            params = d[\"res\"]\n",
    "        else\n",
    "            params = [0.5,10,0.97,2]\n",
    "        end\n",
    "        b = TD(sub_data,params);\n",
    "        df_params = DataFrame(Dict(\"sub_num\"=> sub_num,\"alpha\"=> params[1],\"beta\"=> params[2],\"gamma\"=> params[3],\"c\"=> params[4]))\n",
    "\n",
    "    end\n",
    "\n",
    "    opt_prt = optimal_policy(b);\n",
    "    diff = b.prt - opt_prt;\n",
    "                \n",
    "    df = DataFrame(Dict(\"true_planet\"=> b.true_planet,\"galaxy\"=> b.galaxy,\"block\"=> get_block(b.true_planet),\"prt\"=>b.prt,\n",
    "        \"opt_prt\"=>opt_prt, \"diff\" => diff))\n",
    "    df[!,\"n_galaxy\"] = number_planet_in_galaxy(df.galaxy)\n",
    "       \n",
    "    \n",
    "    if cmp(output,\"avg_and_params\") == 0\n",
    "        gdf = groupby(df, :galaxy)\n",
    "        prt_avg = combine(gdf, :diff => mean)\n",
    "        insertcols!(prt_avg,       # DataFrame to be changed\n",
    "        1,                # insert as column 1\n",
    "        :sub_num => ones(size(prt_avg)[1])*sub_num,   # populate as \"Day\" with 1,2,3,..\n",
    "        makeunique=true) \n",
    "    \n",
    "        insertcols!(df_params,       # DataFrame to be changed\n",
    "        1,                # insert as column 1\n",
    "        :sub_num => ones(size(df_params)[1])*sub_num,   # populate as \"Day\" with 1,2,3,..\n",
    "        makeunique=true) \n",
    "        \n",
    "        return prt_avg, df_params\n",
    "    elseif cmp(output,\"full\") == 0\n",
    "        insertcols!(df,       # DataFrame to be changed\n",
    "        1,                # insert as column 1\n",
    "        :sub_num => ones(size(df)[1])*sub_num,   # populate as \"Day\" with 1,2,3,..\n",
    "        makeunique=true) \n",
    "\n",
    "        return df \n",
    "    end\n",
    "end\n",
    "\n",
    "function all_subs(model,subs,output,fit_params)\n",
    "    if cmp(output,\"avg_and_params\") == 0\n",
    "        df_prt = DataFrame()\n",
    "        df_params = DataFrame()\n",
    "        for sub in subs\n",
    "            try\n",
    "                prt, params = sub_params(model,sub,output,fit_params)\n",
    "                df_prt = vcat(df_prt,prt)\n",
    "                df_params = vcat(df_params,params)\n",
    "            catch err\n",
    "            end\n",
    "        end\n",
    "        return df_prt, df_params\n",
    "    elseif cmp(output,\"full\") == 0\n",
    "        df_prt = DataFrame()\n",
    "        for sub in subs\n",
    "            for n_sim=1:50\n",
    "                try\n",
    "                    prt = sub_params(model,sub,output,fit_params)\n",
    "                    insertcols!(prt,       # DataFrame to be changed\n",
    "                        1,                # insert as column 1\n",
    "                    :n_sim => ones(size(prt)[1])*n_sim,   # populate as \"Day\" with 1,2,3,..\n",
    "                    makeunique=true) \n",
    "                    df_prt = vcat(df_prt,prt)\n",
    "                catch err\n",
    "                end\n",
    "            end\n",
    "        end\n",
    "        return df_prt\n",
    "    end\n",
    "end "
   ]
  },
  {
   "cell_type": "code",
   "execution_count": 11,
   "metadata": {},
   "outputs": [
    {
     "data": {
      "text/plain": [
       "\"model_results/params_val_TD.csv\""
      ]
     },
     "execution_count": 11,
     "metadata": {},
     "output_type": "execute_result"
    }
   ],
   "source": [
    "subs=[  0,   1,   2,   3,   5,   8,   9,  10,  13,  15,  18,  19,  21,\n",
    "        22,  23,  25,  28,  29,  30,  31,  32,  33,  34,  37,  39,  40,\n",
    "        41,  44,  45,  46,  47,  48,  50,  53,  54,  55,  56,  57,  58,\n",
    "        59,  64,  65,  69,  70,  71,  75,  76,  77,  78,  80,  81,  82,\n",
    "        85,  89,  92,  94,  96,  97,  99, 100, 101, 104, 105, 106, 107,\n",
    "       108, 110, 112, 113, 115, 116, 117, 119, 120, 121, 123, 124, 126,\n",
    "       127, 128, 132, 134, 135, 136, 137, 138, 141, 142, 143, 146, 148,\n",
    "       151, 154, 158, 159, 161, 162, 163, 164, 165, 167, 168, 169, 170,\n",
    "       173, 175, 177, 182, 183, 184, 188, 190, 192, 195, 196, 197]\n",
    "\n",
    "prt,params = all_subs(\"adaptive_discount\",subs,\"avg_and_params\",true)\n",
    "CSV.write(\"model_results/prt_val_adaptive_discount_10_10_3.csv\",prt)\n",
    "CSV.write(\"model_results/params_val_adaptive_discount_10_10_3.csv\",params)\n",
    "\n",
    "prt,params = all_subs(\"mvt\",subs,\"avg_and_params\",true)\n",
    "CSV.write(\"model_results/prt_val_MVT_learn.csv\",prt)\n",
    "CSV.write(\"model_results/params_val_MVT_learn.csv\",params)\n",
    "\n",
    "prt,params = all_subs(\"td\",subs,\"avg_and_params\",true)\n",
    "CSV.write(\"model_results/prt_val_TD.csv\",prt)\n",
    "CSV.write(\"model_results/params_val_TD.csv\",params)"
   ]
  },
  {
   "cell_type": "code",
   "execution_count": 5,
   "metadata": {},
   "outputs": [
    {
     "data": {
      "text/plain": [
       "84-element Array{Int64,1}:\n",
       "   1\n",
       "   2\n",
       "   9\n",
       "  10\n",
       "  15\n",
       "  18\n",
       "  19\n",
       "  21\n",
       "  25\n",
       "  28\n",
       "  31\n",
       "  33\n",
       "  37\n",
       "   ⋮\n",
       " 169\n",
       " 170\n",
       " 173\n",
       " 175\n",
       " 182\n",
       " 183\n",
       " 184\n",
       " 188\n",
       " 190\n",
       " 195\n",
       " 196\n",
       " 197"
      ]
     },
     "execution_count": 5,
     "metadata": {},
     "output_type": "execute_result"
    }
   ],
   "source": [
    "# only want subs with alpha > 1 and gamma_coef > 0 for adaptive discounting model\n",
    "params = DataFrame(CSV.File(\"model_results/params_val_adaptive_discount_10_10_3.csv\"))\n",
    "select_subs=filter(row -> row.alpha >= 0.8 && row.gamma_coef>0.00, params).sub_num"
   ]
  },
  {
   "cell_type": "code",
   "execution_count": 4,
   "metadata": {},
   "outputs": [
    {
     "data": {
      "text/plain": [
       "\"model_results/overharvest_adapt_MVT.csv\""
      ]
     },
     "execution_count": 4,
     "metadata": {},
     "output_type": "execute_result"
    }
   ],
   "source": [
    "subs=[  0,   1,   2,   3,   5,   8,   9,  10,  13,  15,  18,  19,  21,\n",
    "        22,  23,  25,  28,  29,  30,  31,  32,  33,  34,  37,  39,  40,\n",
    "        41,  44,  45,  46,  47,  48,  50,  53,  54,  55,  56,  57,  58,\n",
    "        59,  64,  65,  69,  70,  71,  75,  76,  77,  78,  80,  81,  82,\n",
    "        85,  89,  92,  94,  96,  97,  99, 100, 101, 104, 105, 106, 107,\n",
    "       108, 110, 112, 113, 115, 116, 117, 119, 120, 121, 123, 124, 126,\n",
    "       127, 128, 132, 134, 135, 136, 137, 138, 141, 142, 143, 146, 148,\n",
    "       151, 154, 158, 159, 161, 162, 163, 164, 165, 167, 168, 169, 170,\n",
    "       173, 175, 177, 182, 183, 184, 188, 190, 192, 195, 196, 197]\n",
    "\n",
    "\n",
    "prt = all_subs(\"adaptive_discount\",subs,\"full\",true)\n",
    "CSV.write(\"model_results/overharvest_adapt_adaptive_discount_10_10_3.csv\",prt)\n",
    "\n",
    "prt = all_subs(\"td\",subs,\"full\",true)\n",
    "CSV.write(\"model_results/overharvest_adapt_TD.csv\",prt)\n",
    "\n",
    "prt = all_subs(\"mvt\",subs,\"full\",true)\n",
    "CSV.write(\"model_results/overharvest_adapt_MVT.csv\",prt)"
   ]
  },
  {
   "cell_type": "code",
   "execution_count": 38,
   "metadata": {},
   "outputs": [
    {
     "data": {
      "text/plain": [
       "\"model_results/overharvest_adapt_TD_opt_params.csv\""
      ]
     },
     "execution_count": 38,
     "metadata": {},
     "output_type": "execute_result"
    }
   ],
   "source": [
    "prt = all_subs(\"adaptive_discount\",subs,\"full\",false)\n",
    "CSV.write(\"model_results/overharvest_adapt_adaptive_discount_opt_params.csv\",prt)\n",
    "\n",
    "prt = all_subs(\"td\",subs,\"full\",false)\n",
    "CSV.write(\"model_results/overharvest_adapt_TD_opt_params.csv\",prt)"
   ]
  }
 ],
 "metadata": {
  "kernelspec": {
   "display_name": "Julia 1.4.1",
   "language": "julia",
   "name": "julia-1.4"
  },
  "language_info": {
   "file_extension": ".jl",
   "mimetype": "application/julia",
   "name": "julia",
   "version": "1.4.1"
  }
 },
 "nbformat": 4,
 "nbformat_minor": 2
}
